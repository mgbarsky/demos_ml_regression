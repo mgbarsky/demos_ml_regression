{
 "cells": [
  {
   "cell_type": "markdown",
   "metadata": {},
   "source": [
    "# Supervised learning: Regression\n",
    "<b>Problem statement</b>:<br>\n",
    "We are given a collection of samples $\\{(\\mathbf{x}_i,y_i)\\}_{i=1}^N$, where $N$  is the size of the collection, $\\mathbf{x}_i$ is the sample vector containing $D$ numeric features, and $y_i$ is a <b>real-valued</b> target attribute. The goal is to find a mathematical function which given a new vector $\\mathbf{x}_k$ of features will predict the target value $y_k$.\n",
    "\n",
    "In <b>Linear Regression</b> we assume that this mapping function has the following form:\n",
    "$$f(\\mathbf{x})=\\mathbf{w}\\mathbf{x} + b$$\n",
    "\n",
    "Here $\\mathbf{w}$ is a $D$-dimensional vector of parameters (weights) and $b$ is a constant.<br>\n",
    "The goal is to discover (learn) $f$ from data. Then we can use $f$ to predict $y$ given the feature vector for a new, unknown observation $\\mathbf{x}$: $y \\leftarrow f(\\mathbf{x})$.<br>\n",
    "For example, if $\\mathbf{x}$ has only a single feature (dimension) then we are looking for an equation of the line which fits the relationship between  $\\mathbf{x}$ and $y$ as close as possible:\n",
    "<img src=\"images/linear_regr_example.png\">"
   ]
  },
  {
   "cell_type": "markdown",
   "metadata": {},
   "source": [
    "<b>Solution:</b><br>\n",
    "Thus, to find coefficients $\\mathbf{w}$ and $b$ of the best-fitting line, we need to minimize the following expression:\n",
    "\n",
    "$$SSR=\\frac{1}{N} \\Sigma_{i=1}^N(f_{\\mathbf{w},b}(x_i) - y_i)^2$$\n",
    "\n",
    "The expression we are trying to minimize is called an <em>objective function</em>. The expression $(f(x_i) - y_i)^2$ is called the <em>loss function</em>. It is an absolute (squared) difference between the value predicted by the model and the empirical observation. \n",
    "\n",
    "In Linear Regression, the loss function is also called the $SSR$ -- the average of the <b>Sum of Squared Residuals</b> computed by the above formula. $SSR$ averages all discrepancies between the model and observed data points.<br>\n",
    "\n",
    "The loss function above is easily differentiable: if we calculate its derivative (gradient) and set it to zero, then we can just solve a system of linear equations to get optimal values of $\\mathbf{w}$ and $b$.\n",
    "(As we know from Calculus: to find the minimum or the maximum of a function, we set the gradient to zero because the value of the gradient at extrema of a function is always zero.)"
   ]
  },
  {
   "cell_type": "markdown",
   "metadata": {},
   "source": [
    "## Predicting home prices\n",
    "Given a vector containing features of a house, we want to be able to predict its price. To build a predictive regression model, we use the dataset ''House Sales in King County, USA'', the same dataset we used for the KNN-lab.<br>"
   ]
  },
  {
   "cell_type": "markdown",
   "metadata": {},
   "source": [
    "Download the data file [housing.csv](https://drive.google.com/file/d/1s_muxczF8K4qs5mIohZItlb0b6jA4Rhc/view?usp=sharing) to your local directory.<br>\n",
    "__Update the variable `file_name` in the cell below to point to your local directory where you store the datasets for this course__ and then run the cell."
   ]
  },
  {
   "cell_type": "code",
   "execution_count": 1,
   "metadata": {},
   "outputs": [],
   "source": [
    "import pandas as pd\n",
    "import numpy as np\n",
    "\n",
    "import seaborn as sns\n",
    "import matplotlib.pyplot as plt\n",
    "%matplotlib inline\n",
    "\n",
    "file_name = \"../data_sets/housing.csv\""
   ]
  },
  {
   "cell_type": "markdown",
   "metadata": {},
   "source": [
    "## 1. Simple Linear Regression"
   ]
  },
  {
   "cell_type": "markdown",
   "metadata": {},
   "source": [
    "### 1.1. Explore the data\n",
    "After some modifications and preprocessing of the original data, we have the following all-numeric features:\n",
    "<ul>\n",
    "    <li>id - house identifier, numeric.</li>\n",
    "    <li>price - house price, numeric. <b>This is the target variable that we are trying to predict</b>.</li>\n",
    "    <li>bedrooms - no. of bedrooms, numeric.</li>\n",
    "    <li>bathrooms - no. of bathrooms, numeric.</li>\n",
    "    <li>sqft_living - square footage of the home, numeric.</li>\n",
    "    <li>sqft_lot - square footage of the lot, numeric.</li>\n",
    "    <li>floors - no.of floors, numeric.</li>\n",
    "    <li>waterfront - has a view to a waterfront, numeric (0 or 1).</li>\n",
    "    <li>condition - the amount of wear-and-tear, numeric (from 0 to 5).</li>\n",
    "    <li>sqft_above - square footage of house apart from basement, numeric.</li>\n",
    "    <li>sqft_basement - square footage of the basement, numeric.</li>\n",
    "    <li>age - number of years since year built to year sold, numeric.</li>\n",
    "</ul>"
   ]
  },
  {
   "cell_type": "code",
   "execution_count": 2,
   "metadata": {
    "scrolled": true
   },
   "outputs": [
    {
     "data": {
      "text/html": [
       "<div>\n",
       "<style scoped>\n",
       "    .dataframe tbody tr th:only-of-type {\n",
       "        vertical-align: middle;\n",
       "    }\n",
       "\n",
       "    .dataframe tbody tr th {\n",
       "        vertical-align: top;\n",
       "    }\n",
       "\n",
       "    .dataframe thead th {\n",
       "        text-align: right;\n",
       "    }\n",
       "</style>\n",
       "<table border=\"1\" class=\"dataframe\">\n",
       "  <thead>\n",
       "    <tr style=\"text-align: right;\">\n",
       "      <th></th>\n",
       "      <th>price</th>\n",
       "      <th>bedrooms</th>\n",
       "      <th>bathrooms</th>\n",
       "      <th>sqft_living</th>\n",
       "      <th>sqft_lot</th>\n",
       "      <th>floors</th>\n",
       "      <th>waterfront</th>\n",
       "      <th>condition</th>\n",
       "      <th>sqft_above</th>\n",
       "      <th>sqft_basement</th>\n",
       "      <th>age</th>\n",
       "    </tr>\n",
       "  </thead>\n",
       "  <tbody>\n",
       "    <tr>\n",
       "      <th>count</th>\n",
       "      <td>2.161300e+04</td>\n",
       "      <td>21613.000000</td>\n",
       "      <td>21613.000000</td>\n",
       "      <td>21613.000000</td>\n",
       "      <td>2.161300e+04</td>\n",
       "      <td>21613.000000</td>\n",
       "      <td>21613.000000</td>\n",
       "      <td>21613.000000</td>\n",
       "      <td>21613.000000</td>\n",
       "      <td>21613.000000</td>\n",
       "      <td>21613.000000</td>\n",
       "    </tr>\n",
       "    <tr>\n",
       "      <th>mean</th>\n",
       "      <td>5.401822e+05</td>\n",
       "      <td>3.370842</td>\n",
       "      <td>2.114757</td>\n",
       "      <td>2079.899736</td>\n",
       "      <td>1.510697e+04</td>\n",
       "      <td>1.494309</td>\n",
       "      <td>0.007542</td>\n",
       "      <td>3.409430</td>\n",
       "      <td>1788.390691</td>\n",
       "      <td>291.509045</td>\n",
       "      <td>43.317818</td>\n",
       "    </tr>\n",
       "    <tr>\n",
       "      <th>std</th>\n",
       "      <td>3.673622e+05</td>\n",
       "      <td>0.930062</td>\n",
       "      <td>0.770163</td>\n",
       "      <td>918.440897</td>\n",
       "      <td>4.142051e+04</td>\n",
       "      <td>0.539989</td>\n",
       "      <td>0.086517</td>\n",
       "      <td>0.650743</td>\n",
       "      <td>828.090978</td>\n",
       "      <td>442.575043</td>\n",
       "      <td>29.375493</td>\n",
       "    </tr>\n",
       "    <tr>\n",
       "      <th>min</th>\n",
       "      <td>7.500000e+04</td>\n",
       "      <td>0.000000</td>\n",
       "      <td>0.000000</td>\n",
       "      <td>290.000000</td>\n",
       "      <td>5.200000e+02</td>\n",
       "      <td>1.000000</td>\n",
       "      <td>0.000000</td>\n",
       "      <td>1.000000</td>\n",
       "      <td>290.000000</td>\n",
       "      <td>0.000000</td>\n",
       "      <td>-1.000000</td>\n",
       "    </tr>\n",
       "    <tr>\n",
       "      <th>25%</th>\n",
       "      <td>3.219500e+05</td>\n",
       "      <td>3.000000</td>\n",
       "      <td>1.750000</td>\n",
       "      <td>1427.000000</td>\n",
       "      <td>5.040000e+03</td>\n",
       "      <td>1.000000</td>\n",
       "      <td>0.000000</td>\n",
       "      <td>3.000000</td>\n",
       "      <td>1190.000000</td>\n",
       "      <td>0.000000</td>\n",
       "      <td>18.000000</td>\n",
       "    </tr>\n",
       "    <tr>\n",
       "      <th>50%</th>\n",
       "      <td>4.500000e+05</td>\n",
       "      <td>3.000000</td>\n",
       "      <td>2.250000</td>\n",
       "      <td>1910.000000</td>\n",
       "      <td>7.618000e+03</td>\n",
       "      <td>1.500000</td>\n",
       "      <td>0.000000</td>\n",
       "      <td>3.000000</td>\n",
       "      <td>1560.000000</td>\n",
       "      <td>0.000000</td>\n",
       "      <td>40.000000</td>\n",
       "    </tr>\n",
       "    <tr>\n",
       "      <th>75%</th>\n",
       "      <td>6.450000e+05</td>\n",
       "      <td>4.000000</td>\n",
       "      <td>2.500000</td>\n",
       "      <td>2550.000000</td>\n",
       "      <td>1.068800e+04</td>\n",
       "      <td>2.000000</td>\n",
       "      <td>0.000000</td>\n",
       "      <td>4.000000</td>\n",
       "      <td>2210.000000</td>\n",
       "      <td>560.000000</td>\n",
       "      <td>63.000000</td>\n",
       "    </tr>\n",
       "    <tr>\n",
       "      <th>max</th>\n",
       "      <td>7.700000e+06</td>\n",
       "      <td>33.000000</td>\n",
       "      <td>8.000000</td>\n",
       "      <td>13540.000000</td>\n",
       "      <td>1.651359e+06</td>\n",
       "      <td>3.500000</td>\n",
       "      <td>1.000000</td>\n",
       "      <td>5.000000</td>\n",
       "      <td>9410.000000</td>\n",
       "      <td>4820.000000</td>\n",
       "      <td>115.000000</td>\n",
       "    </tr>\n",
       "  </tbody>\n",
       "</table>\n",
       "</div>"
      ],
      "text/plain": [
       "              price      bedrooms     bathrooms   sqft_living      sqft_lot  \\\n",
       "count  2.161300e+04  21613.000000  21613.000000  21613.000000  2.161300e+04   \n",
       "mean   5.401822e+05      3.370842      2.114757   2079.899736  1.510697e+04   \n",
       "std    3.673622e+05      0.930062      0.770163    918.440897  4.142051e+04   \n",
       "min    7.500000e+04      0.000000      0.000000    290.000000  5.200000e+02   \n",
       "25%    3.219500e+05      3.000000      1.750000   1427.000000  5.040000e+03   \n",
       "50%    4.500000e+05      3.000000      2.250000   1910.000000  7.618000e+03   \n",
       "75%    6.450000e+05      4.000000      2.500000   2550.000000  1.068800e+04   \n",
       "max    7.700000e+06     33.000000      8.000000  13540.000000  1.651359e+06   \n",
       "\n",
       "             floors    waterfront     condition    sqft_above  sqft_basement  \\\n",
       "count  21613.000000  21613.000000  21613.000000  21613.000000   21613.000000   \n",
       "mean       1.494309      0.007542      3.409430   1788.390691     291.509045   \n",
       "std        0.539989      0.086517      0.650743    828.090978     442.575043   \n",
       "min        1.000000      0.000000      1.000000    290.000000       0.000000   \n",
       "25%        1.000000      0.000000      3.000000   1190.000000       0.000000   \n",
       "50%        1.500000      0.000000      3.000000   1560.000000       0.000000   \n",
       "75%        2.000000      0.000000      4.000000   2210.000000     560.000000   \n",
       "max        3.500000      1.000000      5.000000   9410.000000    4820.000000   \n",
       "\n",
       "                age  \n",
       "count  21613.000000  \n",
       "mean      43.317818  \n",
       "std       29.375493  \n",
       "min       -1.000000  \n",
       "25%       18.000000  \n",
       "50%       40.000000  \n",
       "75%       63.000000  \n",
       "max      115.000000  "
      ]
     },
     "execution_count": 2,
     "metadata": {},
     "output_type": "execute_result"
    }
   ],
   "source": [
    "data = pd.read_csv(file_name, index_col='id')\n",
    "data.describe()"
   ]
  },
  {
   "cell_type": "markdown",
   "metadata": {},
   "source": [
    "#### Normalizing features\n",
    "\n",
    "Here we are dealing with vectors. Before fitting data points into a model, we want to normalize numeric values to make different dimensions comparable. \n",
    "\n",
    "We are going to use `StandardScaler` from sklearn library, described [here](https://scikit-learn.org/stable/modules/generated/sklearn.preprocessing.StandardScaler.html#sklearn.preprocessing.StandardScaler). This scaler standardizes features by subtracting the mean and scaling to unit variance.\n",
    "\n",
    "Centering and scaling happen independently on each feature by computing the relevant statistics on the samples in the dataset. Mean and standard deviation are then stored to be used on later data using `transform`."
   ]
  },
  {
   "cell_type": "code",
   "execution_count": 3,
   "metadata": {},
   "outputs": [
    {
     "name": "stdout",
     "output_type": "stream",
     "text": [
      "[[ 0.67648506  3.09713317  3.63679094 ...  2.53795535  2.79843978\n",
      "  -1.03210249]\n",
      " [-0.39873715  0.1756067  -0.39731264 ... -0.08862841 -0.65868104\n",
      "  -0.82784588]\n",
      " [-0.39873715 -0.79823546 -1.11049425 ... -0.8796226  -0.65868104\n",
      "   0.29556552]\n",
      " ...\n",
      " [-1.47395936 -1.77207762 -1.15404732 ... -0.92792759 -0.65868104\n",
      "  -1.30444465]\n",
      " [-0.39873715  0.50022075 -0.52252773 ... -0.22750526 -0.65868104\n",
      "  -1.10018803]\n",
      " [-1.47395936 -1.77207762 -1.15404732 ... -0.92792759 -0.65868104\n",
      "  -1.27040188]]\n"
     ]
    }
   ],
   "source": [
    "# target values - home price\n",
    "Y = data['price'] \n",
    "\n",
    "# feature vectors\n",
    "X = data[['bedrooms','bathrooms', 'sqft_living','sqft_lot',\n",
    "          'floors', 'waterfront', 'condition', 'sqft_above', \n",
    "          'sqft_basement', 'age']] \n",
    "\n",
    "# converting to numpy arrays\n",
    "X=X.values.reshape(len(X),len(X.columns)) \n",
    "Y=Y.values.reshape(len(Y),1) \n",
    "\n",
    "\n",
    "from sklearn.preprocessing import StandardScaler\n",
    "\n",
    "scaler = StandardScaler()\n",
    "scaler.fit(X)\n",
    "\n",
    "X = scaler.transform(X)\n",
    "print(X[5:])"
   ]
  },
  {
   "cell_type": "code",
   "execution_count": 4,
   "metadata": {},
   "outputs": [
    {
     "data": {
      "text/plain": [
       "<matplotlib.axes._subplots.AxesSubplot at 0x1a735813400>"
      ]
     },
     "execution_count": 4,
     "metadata": {},
     "output_type": "execute_result"
    },
    {
     "data": {
      "image/png": "[encoded data removed]",
      "text/plain": [
       "<Figure size 432x288 with 2 Axes>"
      ]
     },
     "metadata": {
      "needs_background": "light"
     },
     "output_type": "display_data"
    }
   ],
   "source": [
    "# Is there any correlation between features?\n",
    "corr = data.corr()\n",
    "sns.heatmap(corr)"
   ]
  },
  {
   "cell_type": "markdown",
   "metadata": {},
   "source": [
    "It seems that <em>sqft_living</em> and <em>sqft_above</em> have \n",
    "a positive influence on price, and the house age has the most negative influence."
   ]
  },
  {
   "cell_type": "markdown",
   "metadata": {},
   "source": [
    "### 1.2. Build the initial model\n",
    "\n",
    "We start with linear regression using just two dimensions - trying to find the best-fitting line which describes the relationships between _square foots of living space_ and _home price_."
   ]
  },
  {
   "cell_type": "code",
   "execution_count": 5,
   "metadata": {},
   "outputs": [],
   "source": [
    "from sklearn import linear_model\n",
    "regr = linear_model.LinearRegression()"
   ]
  },
  {
   "cell_type": "code",
   "execution_count": 6,
   "metadata": {},
   "outputs": [
    {
     "name": "stdout",
     "output_type": "stream",
     "text": [
      "[[ 3.63679094]\n",
      " [-0.39731264]\n",
      " [-1.11049425]\n",
      " ...\n",
      " [-1.15404732]\n",
      " [-0.52252773]\n",
      " [-1.15404732]]\n"
     ]
    }
   ],
   "source": [
    "Y = data['price'] \n",
    "X = data['sqft_living'] \n",
    "\n",
    "# convert to numpy vectors (1D vectors in this case)\n",
    "X=X.values.reshape(len(X),1) \n",
    "Y=Y.values.reshape(len(Y),1) \n",
    "\n",
    "scaler = StandardScaler()\n",
    "scaler.fit(X)\n",
    "\n",
    "X = scaler.transform(X)\n",
    "print(X[5:])"
   ]
  },
  {
   "cell_type": "code",
   "execution_count": 7,
   "metadata": {},
   "outputs": [],
   "source": [
    "# Split the data into training/testing sets 2:1\n",
    "split_n = len(X)//3 \n",
    "X_train = X[:-split_n] \n",
    "X_test = X[-split_n:] \n",
    "   \n",
    "# Split the targets into training/testing sets \n",
    "Y_train = Y[:-split_n] \n",
    "Y_test = Y[-split_n:] "
   ]
  },
  {
   "cell_type": "code",
   "execution_count": 8,
   "metadata": {},
   "outputs": [
    {
     "data": {
      "text/plain": [
       "LinearRegression()"
      ]
     },
     "execution_count": 8,
     "metadata": {},
     "output_type": "execute_result"
    }
   ],
   "source": [
    "# Train the model using the training set \n",
    "regr.fit(X_train, Y_train)   "
   ]
  },
  {
   "cell_type": "code",
   "execution_count": 9,
   "metadata": {},
   "outputs": [
    {
     "data": {
      "image/png": "[encoded data removed]",
      "text/plain": [
       "<Figure size 432x288 with 1 Axes>"
      ]
     },
     "metadata": {
      "needs_background": "light"
     },
     "output_type": "display_data"
    }
   ],
   "source": [
    "# Plot data points\n",
    "plt.scatter(X_train, Y_train,  color='black') \n",
    "plt.title('Train Data Fit') \n",
    "plt.xlabel('Area, sqft') \n",
    "plt.ylabel('Price') \n",
    "\n",
    "# Plot regression line \n",
    "plt.plot(X_train, regr.predict(X_train), color='red',linewidth=3) \n",
    "plt.show() "
   ]
  },
  {
   "cell_type": "markdown",
   "metadata": {},
   "source": [
    "### 1.3. Model evaluation\n",
    "The _coefficient of determination_, denoted as $R^2$, tells you which amount of variation in $𝑦$ is explained by the variance in $\\mathbf{𝐱}$, according to our regression model. Larger $R^2$ indicates a better model.<br>\n",
    "The value $R^2=1.0$ corresponds to $SSR = 0$, that is to the perfect fit since the values of predicted and actual responses fit completely with each other."
   ]
  },
  {
   "cell_type": "code",
   "execution_count": 10,
   "metadata": {},
   "outputs": [
    {
     "name": "stdout",
     "output_type": "stream",
     "text": [
      "intercept: [541377.21119381]\n",
      "slope: [[261773.93107442]]\n",
      "Coefficient of determination for train data: 0.4915940045103643\n"
     ]
    }
   ],
   "source": [
    "r_sq = regr.score(X_train,Y_train)\n",
    "print('intercept:', regr.intercept_)\n",
    "print('slope:', regr.coef_)\n",
    "print(\"Coefficient of determination for train data:\", r_sq)"
   ]
  },
  {
   "cell_type": "markdown",
   "metadata": {},
   "source": [
    "How would this model perform on new data?"
   ]
  },
  {
   "cell_type": "code",
   "execution_count": 11,
   "metadata": {},
   "outputs": [
    {
     "name": "stdout",
     "output_type": "stream",
     "text": [
      "Coefficient of determination for test data: 0.49377143659205625\n"
     ]
    }
   ],
   "source": [
    "r_sq_test = regr.score(X_test,Y_test)\n",
    "print(\"Coefficient of determination for test data:\", r_sq_test)"
   ]
  },
  {
   "cell_type": "markdown",
   "metadata": {},
   "source": [
    "### 1.4. Prediction\n",
    "Now let's take two houses from the dataset and imagine that we want to estimate their prices using our model. The area of the first house is $830$ sqft and the price is \\\\$85,000. The second house with the area of $7300$ sqft and was sold for \\\\$5,300,000.\n"
   ]
  },
  {
   "cell_type": "code",
   "execution_count": 12,
   "metadata": {},
   "outputs": [
    {
     "name": "stdout",
     "output_type": "stream",
     "text": [
      "original: [[ 830.]\n",
      " [7390.]]\n",
      "normalized: [[-1.36092443]\n",
      " [ 5.78177989]]\n"
     ]
    }
   ],
   "source": [
    "x = [[830.0], [7390.0]]\n",
    "y = [85000.0, 5300000.0]\n",
    "\n",
    "x, y = np.array(x), np.array(y)\n",
    "\n",
    "print(\"original:\", x)\n",
    "# normalizing - to be consistent with the model\n",
    "# scaler remembers all necessary statistics \n",
    "x = scaler.transform(x)\n",
    "\n",
    "print(\"normalized:\", x)"
   ]
  },
  {
   "cell_type": "code",
   "execution_count": 13,
   "metadata": {},
   "outputs": [
    {
     "name": "stdout",
     "output_type": "stream",
     "text": [
      "predicted price: [[ 185122.67]\n",
      " [2054896.46]]\n",
      "actual price [  85000. 5300000.]\n"
     ]
    }
   ],
   "source": [
    "np.set_printoptions(precision=2)\n",
    "\n",
    "y_pred = regr.predict(x)\n",
    "print('predicted price:', y_pred)\n",
    "print('actual price', y)"
   ]
  },
  {
   "cell_type": "markdown",
   "metadata": {},
   "source": [
    "#### CONCLUSION\n",
    "The area of the living space contributes about 49% of the variance in prices. The predictive power of a single (even best-correlated) feature is low."
   ]
  },
  {
   "cell_type": "markdown",
   "metadata": {},
   "source": [
    "## 2. Multiple Linear Regression\n",
    "<em>Multiple</em> or Multivariate Linear Regression is used in cases when we have two or more features to predict the target.\n",
    "\n",
    "If there are just two features, the regression function becomes: \n",
    "$$f(x_1, x_2) = b + w_1x_1 + w_2x_2$$ \n",
    "It represents a regression plane in a three-dimensional space.<br> \n",
    "The task becomes to determine the values of the $b$, $w_1$ and $w_2$, such that this plane is as close as possible to the actual responses and yields the minimal $SSR$.<br>\n",
    "In general case with $D>2$ features -- the function has the form:\n",
    "$$f(x_1, \\ldots, x_D) = b + w_1x_1 + \\ldots + w_Dx_D$$\n",
    "and there are $D+1$ parameters to learn. "
   ]
  },
  {
   "cell_type": "markdown",
   "metadata": {},
   "source": [
    "### 2.1. Build the model\n",
    "The process is performed as before, but we use all 10 features as input variables."
   ]
  },
  {
   "cell_type": "code",
   "execution_count": 14,
   "metadata": {},
   "outputs": [
    {
     "name": "stdout",
     "output_type": "stream",
     "text": [
      "[[ 0.68  3.1   3.64 ...  2.54  2.8  -1.03]\n",
      " [-0.4   0.18 -0.4  ... -0.09 -0.66 -0.83]\n",
      " [-0.4  -0.8  -1.11 ... -0.88 -0.66  0.3 ]\n",
      " ...\n",
      " [-1.47 -1.77 -1.15 ... -0.93 -0.66 -1.3 ]\n",
      " [-0.4   0.5  -0.52 ... -0.23 -0.66 -1.1 ]\n",
      " [-1.47 -1.77 -1.15 ... -0.93 -0.66 -1.27]]\n"
     ]
    }
   ],
   "source": [
    "Y = data['price'] \n",
    "X = data[['bedrooms','bathrooms', 'sqft_living','sqft_lot',\n",
    "          'floors', 'waterfront', 'condition', 'sqft_above', \n",
    "          'sqft_basement', 'age']] \n",
    "\n",
    "X=X.values.reshape(len(X),len(X.columns)) \n",
    "Y=Y.values.reshape(len(Y),1) \n",
    "\n",
    "# scale feature vectors\n",
    "scaler = StandardScaler()\n",
    "scaler.fit(X)\n",
    "\n",
    "X = scaler.transform(X)\n",
    "print(X[5:])"
   ]
  },
  {
   "cell_type": "code",
   "execution_count": 15,
   "metadata": {},
   "outputs": [
    {
     "data": {
      "text/plain": [
       "LinearRegression()"
      ]
     },
     "execution_count": 15,
     "metadata": {},
     "output_type": "execute_result"
    }
   ],
   "source": [
    "# Split the data into training/testing sets \n",
    "split_n = len(X)//3 \n",
    "X_train = X[:-split_n] \n",
    "X_test = X[-split_n:] \n",
    "   \n",
    "# Split the targets into training/testing sets \n",
    "Y_train = Y[:-split_n] \n",
    "Y_test = Y[-split_n:] \n",
    "\n",
    "# fit the hyperplane - find coefficients\n",
    "regr = linear_model.LinearRegression()\n",
    "regr.fit(X_train, Y_train)"
   ]
  },
  {
   "cell_type": "markdown",
   "metadata": {},
   "source": [
    "### 2.2. Evaluate multivariate model\n",
    "Does this model predict better than the single-variable model?"
   ]
  },
  {
   "cell_type": "code",
   "execution_count": 16,
   "metadata": {},
   "outputs": [
    {
     "name": "stdout",
     "output_type": "stream",
     "text": [
      "Coefficient of determination for train data: 0.5939378265752664\n",
      "intercept: [534280.26]\n",
      "slope: [[-5.77e+04  4.95e+04  3.06e+17 -1.17e+04  1.25e+04  6.79e+04  1.08e+04\n",
      "  -2.76e+17 -1.48e+17  9.96e+04]]\n",
      "Coefficient of determination for test data: 0.5646370459195997\n"
     ]
    }
   ],
   "source": [
    "r_sq_train = regr.score(X_train,Y_train)\n",
    "print(\"Coefficient of determination for train data:\", r_sq_train)\n",
    "print('intercept:', regr.intercept_)\n",
    "print('slope:', regr.coef_)\n",
    "\n",
    "r_sq_test = regr.score(X_test,Y_test)\n",
    "print(\"Coefficient of determination for test data:\", r_sq_test)"
   ]
  },
  {
   "cell_type": "markdown",
   "metadata": {},
   "source": [
    "If $R^2$ score is significantly better for the train data than for the test data - this is a sign of overfitting: we followed too closely to the training data points and the model failed to generalize. "
   ]
  },
  {
   "cell_type": "markdown",
   "metadata": {},
   "source": [
    "### 2.3. Prediction\n",
    "What about our two houses?"
   ]
  },
  {
   "cell_type": "code",
   "execution_count": 17,
   "metadata": {},
   "outputs": [
    {
     "name": "stdout",
     "output_type": "stream",
     "text": [
      "original: [[    2     1   830  9000     1     0     3   830     0    75]\n",
      " [    6     6  7390 24829     2     1     4  5000  2390    24]]\n",
      "normalized: [[-1.47 -1.45 -1.36 -0.15 -0.92 -0.09 -0.63 -1.16 -0.66  1.08]\n",
      " [ 2.83  5.04  5.78  0.23  0.94 11.47  0.91  3.88  4.74 -0.66]]\n"
     ]
    }
   ],
   "source": [
    "x = [[2,1,830,9000,1,0,3,830,0,75], [6,6,7390,24829,2,1,4,5000,2390,24]]\n",
    "y = [85000, 5300000]\n",
    "\n",
    "x, y = np.array(x), np.array(y)\n",
    "\n",
    "print(\"original:\", x)\n",
    "# normalizing - to be consistent with the model\n",
    "# scaler remembers all necessary statistics \n",
    "x = scaler.transform(x)\n",
    "\n",
    "print(\"normalized:\", x)"
   ]
  },
  {
   "cell_type": "code",
   "execution_count": 18,
   "metadata": {},
   "outputs": [
    {
     "name": "stdout",
     "output_type": "stream",
     "text": [
      "predicted price: [[ 253768.26]\n",
      " [2921096.26]]\n",
      "actual price [  85000 5300000]\n"
     ]
    }
   ],
   "source": [
    "y_pred = regr.predict(x)\n",
    "print('predicted price:', y_pred)\n",
    "print('actual price', y)"
   ]
  },
  {
   "cell_type": "markdown",
   "metadata": {},
   "source": [
    "## 3. Polynomial Regression\n",
    "\n",
    "We might suggest that maybe the dependence between input and target variables is not linear, but polynomial. \n",
    "\n",
    "In other words, in addition to linear terms like $w_1x_1$, our regression function $f$ should include non-linear terms such as $w_2x_1^2$, $w_3x_1^3$, or even $w_4x_1x_2$, $w_5x_1^2x_2$, and so on.\n",
    "\n",
    "The simplest example of polynomial regression in the case of a single input variable is a polynomial of degree 2: \n",
    "$$f(x) = b + w_1x + w_2x^2$$.\n",
    "\n",
    "Now, we want to compute $b$, $w_1$ and $w_2$.  \n",
    "Keeping this in mind, compare the polynomial regression function with the function $f(x) = b + w_1x_1 + w_2x_2$ used for linear regression. They look very similar and are both linear functions with the unknown coefficients $b$, $w_1$ and $w_2$. This is why we can solve the polynomial regression problem as a linear problem with the term $x^2$ regarded as an additional input variable.\n",
    "\n",
    "In the case of two variables and the polynomial of degree 2, the regression function has this form: \n",
    "\n",
    "$$f([x_1, x_2]) = b + w_1x_1 + w_2x_2 + w_3x_1^2 + w_4x_2^2  + w_5x_1x_2$$. \n",
    "\n",
    "The algorithm for solving this problem is exactly the same: we apply linear regression learning to 5 input variables: $x_1$, $x_2$, $x_1^2$, $x_2^2$, and $x_1x_2$.  As the result we get the values of six weights which minimize $SSR$: $b$, $w_1$, $w_2$, $w_3$, $w_4$ and $w_5$.\n",
    "\n",
    "### 3.1. Adding derived features\n",
    "All we need to do, is to add some artificial columns to the dataset. We use the `PolynomialFeatures` from the `sklearn.preprocessing` module. "
   ]
  },
  {
   "cell_type": "code",
   "execution_count": 19,
   "metadata": {},
   "outputs": [],
   "source": [
    "from sklearn.preprocessing import PolynomialFeatures"
   ]
  },
  {
   "cell_type": "markdown",
   "metadata": {},
   "source": [
    "### 3.2. Polynomial regression with a single variable\n",
    "Let's start with a single input variable -- <code>sqft_living</code>, and the polinomial of degree 2."
   ]
  },
  {
   "cell_type": "code",
   "execution_count": 20,
   "metadata": {},
   "outputs": [
    {
     "name": "stdout",
     "output_type": "stream",
     "text": [
      "[[5420]\n",
      " [1715]\n",
      " [1060]\n",
      " ...\n",
      " [1020]\n",
      " [1600]\n",
      " [1020]]\n",
      "[[1230000.]\n",
      " [ 257500.]\n",
      " [ 291850.]\n",
      " ...\n",
      " [ 402101.]\n",
      " [ 400000.]\n",
      " [ 325000.]]\n"
     ]
    }
   ],
   "source": [
    "data = pd.read_csv(file_name, index_col='id')\n",
    "\n",
    "Y = data['price'] \n",
    "X = data['sqft_living'] \n",
    "\n",
    "# convert to numpy vectors (1D vectors in this case)\n",
    "X=X.values.reshape(-1,1) \n",
    "Y=Y.values.reshape(-1,1) \n",
    "\n",
    "print(X[5:])\n",
    "print(Y[5:])"
   ]
  },
  {
   "cell_type": "code",
   "execution_count": 21,
   "metadata": {},
   "outputs": [
    {
     "name": "stdout",
     "output_type": "stream",
     "text": [
      "[[ 3.64]\n",
      " [-0.4 ]\n",
      " [-1.11]\n",
      " ...\n",
      " [-1.15]\n",
      " [-0.52]\n",
      " [-1.15]]\n"
     ]
    }
   ],
   "source": [
    "# normalize X\n",
    "scaler = StandardScaler()\n",
    "scaler.fit(X)\n",
    "\n",
    "X = scaler.transform(X)\n",
    "print(X[5:])"
   ]
  },
  {
   "cell_type": "markdown",
   "metadata": {},
   "source": [
    "Now let's generate an additional column: $x^2$."
   ]
  },
  {
   "cell_type": "code",
   "execution_count": 22,
   "metadata": {},
   "outputs": [
    {
     "name": "stdout",
     "output_type": "stream",
     "text": [
      "['1', 'sqft_living', 'sqft_living^2']\n",
      "[[ 1.    3.64 13.23]\n",
      " [ 1.   -0.4   0.16]\n",
      " [ 1.   -1.11  1.23]\n",
      " ...\n",
      " [ 1.   -1.15  1.33]\n",
      " [ 1.   -0.52  0.27]\n",
      " [ 1.   -1.15  1.33]]\n"
     ]
    }
   ],
   "source": [
    "transformer = PolynomialFeatures(degree=2)\n",
    "transformer.fit(X)\n",
    "X = transformer.transform(X)\n",
    "\n",
    "print(transformer.get_feature_names([\"sqft_living\"]))\n",
    "print(X[5:])"
   ]
  },
  {
   "cell_type": "code",
   "execution_count": 23,
   "metadata": {},
   "outputs": [],
   "source": [
    "# Split the data into training/testing sets \n",
    "split_n = len(X)//3 \n",
    "X_train = X[:-split_n] \n",
    "X_test = X[-split_n:] \n",
    "   \n",
    "# Split the targets into training/testing sets \n",
    "Y_train = Y[:-split_n] \n",
    "Y_test = Y[-split_n:] "
   ]
  },
  {
   "cell_type": "markdown",
   "metadata": {},
   "source": [
    "The dataset now contains an additional column $x^2$.<br>\n",
    "Everything else is performed exactly as before, but we use `X_train` with more columns than before."
   ]
  },
  {
   "cell_type": "code",
   "execution_count": 24,
   "metadata": {},
   "outputs": [
    {
     "name": "stdout",
     "output_type": "stream",
     "text": [
      "Coefficient of determination for train data: 0.536573746585831\n",
      "Coefficient of determination for test data: 0.5236786634386175\n"
     ]
    }
   ],
   "source": [
    "# Train the model as before\n",
    "regr = linear_model.LinearRegression()\n",
    "regr.fit(X_train, Y_train)    \n",
    "   \n",
    "r_sq_train = regr.score(X_train,Y_train)\n",
    "print(\"Coefficient of determination for train data:\", r_sq_train)\n",
    "\n",
    "r_sq_test = regr.score(X_test,Y_test)\n",
    "print(\"Coefficient of determination for test data:\", r_sq_test)"
   ]
  },
  {
   "cell_type": "markdown",
   "metadata": {},
   "source": [
    "#### Conclusion\n",
    "Adding polynomial features significantly improved the power of our model: now the living area contributes about 53% to the variance in prices, comparing with 49% with a strictly linear model."
   ]
  },
  {
   "cell_type": "markdown",
   "metadata": {},
   "source": [
    "### 3.3. Polynomial regression with all the features\n",
    "Now we try to improve the model using polynomial regression for all the features."
   ]
  },
  {
   "cell_type": "code",
   "execution_count": 25,
   "metadata": {},
   "outputs": [
    {
     "name": "stdout",
     "output_type": "stream",
     "text": [
      "-0.3987371485515761 -1.4474635685648216 0.15899131363504168 0.5771574959618258\n"
     ]
    }
   ],
   "source": [
    "data = pd.read_csv(file_name, index_col='id')\n",
    "\n",
    "Y = data['price'] \n",
    "X = data[['bedrooms','bathrooms', 'sqft_living','sqft_lot',\n",
    "          'floors', 'waterfront', 'condition', 'sqft_above', \n",
    "          'sqft_basement', 'age']] \n",
    "\n",
    "# convert to numpy vectors \n",
    "X=X.values.reshape(len(X),len(X.columns)) \n",
    "Y=Y.values.reshape(len(Y),1) \n",
    "\n",
    "# normalize X\n",
    "scaler = StandardScaler()\n",
    "scaler.fit(X)\n",
    "\n",
    "X = scaler.transform(X)\n",
    "\n",
    "# Add polynomial features\n",
    "transformer = PolynomialFeatures(degree=2, include_bias=False)\n",
    "transformer.fit(X)\n",
    "X = transformer.transform(X)\n",
    "\n",
    "# Split the data into training/testing sets \n",
    "split_n = len(X)//3 \n",
    "X_train = X[:-split_n] \n",
    "X_test = X[-split_n:] \n",
    "   \n",
    "# Split the targets into training/testing sets \n",
    "Y_train = Y[:-split_n] \n",
    "Y_test = Y[-split_n:] \n",
    "\n",
    "print(X_train[0][0], X_train[0][1], X_train[0][10], X_train[0][11] )"
   ]
  },
  {
   "cell_type": "markdown",
   "metadata": {},
   "source": [
    "The modified input array contains additional columns: one with the original feature, the other with its square plus the multiplications to the values in all other columns.\n",
    "\n",
    "The model learning algorithm does not change:"
   ]
  },
  {
   "cell_type": "code",
   "execution_count": 26,
   "metadata": {},
   "outputs": [
    {
     "name": "stdout",
     "output_type": "stream",
     "text": [
      "Coefficient of determination for train data: 0.6640072157038772\n"
     ]
    }
   ],
   "source": [
    "regr = linear_model.LinearRegression()\n",
    "regr.fit(X_train, Y_train)\n",
    "\n",
    "r_sq_train = regr.score(X_train,Y_train)\n",
    "print(\"Coefficient of determination for train data:\", r_sq_train)"
   ]
  },
  {
   "cell_type": "code",
   "execution_count": 27,
   "metadata": {},
   "outputs": [
    {
     "name": "stdout",
     "output_type": "stream",
     "text": [
      "Coefficient of determination for test data: 0.5977472106941717\n"
     ]
    }
   ],
   "source": [
    "r_sq_test = regr.score(X_test,Y_test)\n",
    "print(\"Coefficient of determination for test data:\", r_sq_test)"
   ]
  },
  {
   "cell_type": "markdown",
   "metadata": {},
   "source": [
    "#### Conclusion\n",
    "This model does not perform well: the training set is fitted better, but the model failed to generalize to a new data. This is the case of __overfitting__. The polynomial model we created is too complex to describe this dataset."
   ]
  },
  {
   "cell_type": "markdown",
   "metadata": {},
   "source": [
    "### 3.4. Prediction\n",
    "What about our two houses?"
   ]
  },
  {
   "cell_type": "code",
   "execution_count": 28,
   "metadata": {},
   "outputs": [
    {
     "name": "stdout",
     "output_type": "stream",
     "text": [
      "original: [[    2     1   830  9000     1     0     3   830     0    75]\n",
      " [    6     6  7390 24829     2     1     4  5000  2390    24]]\n",
      "normalized: [[-1.47 -1.45 -1.36 -0.15 -0.92 -0.09 -0.63 -1.16 -0.66  1.08]\n",
      " [ 2.83  5.04  5.78  0.23  0.94 11.47  0.91  3.88  4.74 -0.66]]\n"
     ]
    }
   ],
   "source": [
    "x = [[2,1,830,9000,1,0,3,830,0,75], [6,6,7390,24829,2,1,4,5000,2390,24]]\n",
    "y = [85000, 5300000]\n",
    "\n",
    "x, y = np.array(x), np.array(y)\n",
    "\n",
    "print(\"original:\", x)\n",
    "# normalizing - to be consistent with the model\n",
    "# scaler remembers all necessary statistics \n",
    "x = scaler.transform(x)\n",
    "\n",
    "print(\"normalized:\", x)"
   ]
  },
  {
   "cell_type": "code",
   "execution_count": 29,
   "metadata": {},
   "outputs": [
    {
     "name": "stdout",
     "output_type": "stream",
     "text": [
      "predicted price: [[ 269156.62]\n",
      " [4717423.38]]\n",
      "actual price [  85000 5300000]\n"
     ]
    }
   ],
   "source": [
    "# adding poly features\n",
    "transformer.fit(x)\n",
    "x_ = transformer.transform(x)\n",
    "\n",
    "y_pred = regr.predict(x_)\n",
    "print('predicted price:', y_pred)\n",
    "print('actual price', y)"
   ]
  },
  {
   "cell_type": "markdown",
   "metadata": {},
   "source": [
    "It seems that this is the best we can do so far. Our results using K-NN regressor were even worse. Fortunately, there are other regression techniques suitable for the cases where linear regression doesn’t perform well: Support Vector Regression, Decision Trees, Random Forests, and Neural Networks, to name the few.\n",
    "\n",
    "Copyright &copy; 2022 Marina Barsky. All rights reserved."
   ]
  }
 ],
 "metadata": {
  "kernelspec": {
   "display_name": "Python 3",
   "language": "python",
   "name": "python3"
  },
  "language_info": {
   "codemirror_mode": {
    "name": "ipython",
    "version": 3
   },
   "file_extension": ".py",
   "mimetype": "text/x-python",
   "name": "python",
   "nbconvert_exporter": "python",
   "pygments_lexer": "ipython3",
   "version": "3.8.3"
  }
 },
 "nbformat": 4,
 "nbformat_minor": 4
}
