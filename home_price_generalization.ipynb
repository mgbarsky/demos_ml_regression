{
 "cells": [
  {
   "cell_type": "markdown",
   "metadata": {},
   "source": [
    "# Regularization\n",
    "\n",
    "This is a demo for the lecture \"Learning to generalize\".\n"
   ]
  },
  {
   "cell_type": "markdown",
   "metadata": {},
   "source": [
    "Download the data file [housing.csv](https://drive.google.com/file/d/1s_muxczF8K4qs5mIohZItlb0b6jA4Rhc/view?usp=sharing) to your local directory.<br>\n",
    "Set `file_name` in the cell below and import all the libraries."
   ]
  },
  {
   "cell_type": "code",
   "execution_count": 33,
   "metadata": {},
   "outputs": [],
   "source": [
    "import pandas as pd\n",
    "import numpy as np\n",
    "\n",
    "# we need this to scale data\n",
    "from sklearn.preprocessing import StandardScaler\n",
    "\n",
    "# we need this to create polynomial features\n",
    "from sklearn.preprocessing import PolynomialFeatures\n",
    "\n",
    "# all the Linear Regression algorithms are in this module\n",
    "from sklearn import linear_model\n",
    "\n",
    "# Visualization\n",
    "import matplotlib.pyplot as plt\n",
    "%matplotlib inline\n",
    "\n",
    "file_name = \"../data_sets/housing.csv\""
   ]
  },
  {
   "cell_type": "markdown",
   "metadata": {},
   "source": [
    "## 1. Linear Regression"
   ]
  },
  {
   "cell_type": "markdown",
   "metadata": {},
   "source": [
    "### 1.1. Basic regression"
   ]
  },
  {
   "cell_type": "markdown",
   "metadata": {},
   "source": [
    "Read the data and scale feature vectors."
   ]
  },
  {
   "cell_type": "code",
   "execution_count": 34,
   "metadata": {},
   "outputs": [],
   "source": [
    "data = pd.read_csv(file_name, index_col='id')\n",
    "\n",
    "# Split dataset into feature vectors and target variable\n",
    "Y = data['price'] \n",
    "X = data[['bedrooms','bathrooms', 'sqft_living','sqft_lot',\n",
    "          'floors', 'waterfront', 'condition', 'sqft_above', \n",
    "          'sqft_basement', 'age']] \n",
    "\n",
    "# Convert pandas data into numpy arrays\n",
    "X=X.values.reshape(len(X),len(X.columns)) \n",
    "Y=Y.values.reshape(len(Y),1) \n",
    "\n",
    "# scale feature vectors\n",
    "scaler = StandardScaler()\n",
    "scaler.fit(X)\n",
    "\n",
    "X = scaler.transform(X)"
   ]
  },
  {
   "cell_type": "markdown",
   "metadata": {},
   "source": [
    "Split into training and testing sets and build a multivariate regression model using all the features."
   ]
  },
  {
   "cell_type": "code",
   "execution_count": 35,
   "metadata": {},
   "outputs": [
    {
     "data": {
      "text/plain": [
       "LinearRegression()"
      ]
     },
     "execution_count": 35,
     "metadata": {},
     "output_type": "execute_result"
    }
   ],
   "source": [
    "# Split the data into training/testing sets \n",
    "split_n = len(X)//3 \n",
    "X_train = X[:-split_n] \n",
    "X_test = X[-split_n:] \n",
    "   \n",
    "# Split the targets into training/testing sets \n",
    "Y_train = Y[:-split_n] \n",
    "Y_test = Y[-split_n:] \n",
    "\n",
    "# fit the hyperplane - find coefficients\n",
    "regr = linear_model.LinearRegression()\n",
    "regr.fit(X_train, Y_train)"
   ]
  },
  {
   "cell_type": "markdown",
   "metadata": {},
   "source": [
    "Evaluate the model."
   ]
  },
  {
   "cell_type": "code",
   "execution_count": 36,
   "metadata": {},
   "outputs": [
    {
     "name": "stdout",
     "output_type": "stream",
     "text": [
      "Normal regression scores train: 0.5939378265752664 test: 0.5646370459195997 difference: 0.02930078065566666\n",
      "intercept: [534280.2598376]\n",
      "weights: [[-5.76986258e+04  4.95131975e+04  3.06259801e+17 -1.17397658e+04\n",
      "   1.25041572e+04  6.78562374e+04  1.07678672e+04 -2.76132061e+17\n",
      "  -1.47579387e+17  9.95671074e+04]]\n"
     ]
    }
   ],
   "source": [
    "r_sq_train = regr.score(X_train,Y_train)\n",
    "r_sq_test = regr.score(X_test,Y_test)\n",
    "print(\"Normal regression scores\", \"train:\", r_sq_train, \"test:\", r_sq_test, \n",
    "      \"difference:\",r_sq_train - r_sq_test)\n",
    "\n",
    "# print learned weights and the bias point\n",
    "print('intercept:', regr.intercept_)\n",
    "print('weights:', regr.coef_)"
   ]
  },
  {
   "cell_type": "markdown",
   "metadata": {},
   "source": [
    "Look at the weights learned by this model. Some of them are extremely high. The weights of different features differ by  upto 13 orders of magnitude!\n",
    "\n",
    "It seems that the model has a high _variance_. It assigns very high weights to some features, while completely ignoring the contribution of others. It fits the hyperplane too closely to the training points.\n",
    "We want to smooth these weights out, we want to learn a more general model from these data.\n",
    "Ridge and Lasso regularizations are some of the simplest techniques for reducing weights."
   ]
  },
  {
   "cell_type": "markdown",
   "metadata": {},
   "source": [
    "Both Ridge and Lasso help keeping weights for all features low. They achieve it by introducing an additional term that has to be minimized in addition to minimizing SSE. Two competing forces are applied to the dataset: one which seeks the minimum of the objectiove function by gradient descent, and another keeps the sum of weights low. We seek weight assignment which is optimal for the combination of these two objective functions."
   ]
  },
  {
   "cell_type": "markdown",
   "metadata": {},
   "source": [
    "<img src=\"images/lasso_ridge_enet.png\" width=\"80%\">\n",
    "<p style=\"text-align:center\">Figure 1. Lasso, Ridge and Elastic net regularization.</p>"
   ]
  },
  {
   "attachments": {},
   "cell_type": "markdown",
   "metadata": {},
   "source": [
    "### 1.2. Ridge Regularization\n",
    "\n",
    "With _Ridge_ regularization we are minimizing this combination of two functions:\n",
    "\n",
    "$$Ridge = SSR + \\alpha(\\Sigma_{i=1}^{n}{|w_i|^2})$$\n",
    "\n",
    "Ridge helps keep weights small and under control.\n",
    "\n",
    "Let's compare weights produced by regular Linear regression and by regression with Ridge regularization."
   ]
  },
  {
   "cell_type": "code",
   "execution_count": 37,
   "metadata": {},
   "outputs": [
    {
     "name": "stdout",
     "output_type": "stream",
     "text": [
      "Regression scores train: 0.5939378265752664 test: 0.5646370459195997 difference: 0.02930078065566666\n",
      "Ridge scores train: 0.5939303793012616 test: 0.5647347084078324 difference: 0.029195670893429226\n"
     ]
    }
   ],
   "source": [
    "lin_regr = linear_model.LinearRegression()\n",
    "lin_regr.fit(X_train, Y_train)\n",
    "\n",
    "# The higher the alpha value, the more restriction on the coefficients\n",
    "rr = linear_model.Ridge(alpha=1) \n",
    "rr.fit(X_train, Y_train)\n",
    "\n",
    "regr_train_score=lin_regr.score(X_train, Y_train)\n",
    "regr_test_score=lin_regr.score(X_test, Y_test)\n",
    "\n",
    "ridge_train_score = rr.score(X_train,Y_train)\n",
    "ridge_test_score = rr.score(X_test, Y_test)\n",
    "\n",
    "print(\"Regression scores\", \"train:\", regr_train_score, \"test:\", regr_test_score, \n",
    "      \"difference:\", regr_train_score-regr_test_score )\n",
    "print(\"Ridge scores\", \"train:\", ridge_train_score, \"test:\", ridge_test_score, \n",
    "      \"difference:\", ridge_train_score-ridge_test_score)"
   ]
  },
  {
   "cell_type": "markdown",
   "metadata": {},
   "source": [
    "The difference between training and testing score is reduced. The training score is slightly down.\n",
    "\n",
    "Let's see how the weights changed after applying Ridge."
   ]
  },
  {
   "cell_type": "code",
   "execution_count": 38,
   "metadata": {},
   "outputs": [
    {
     "name": "stdout",
     "output_type": "stream",
     "text": [
      "[[-5.76986258e+04  4.95131975e+04  3.06259801e+17 -1.17397658e+04\n",
      "   1.25041572e+04  6.78562374e+04  1.07678672e+04 -2.76132061e+17\n",
      "  -1.47579387e+17  9.95671074e+04]]\n",
      "[[-57923.16795046  49652.18617459 142443.99479043 -11765.64475946\n",
      "   12571.94792913  67877.36967325  10708.89984447 131769.45784849\n",
      "   49052.22640247  99562.06874908]]\n"
     ]
    }
   ],
   "source": [
    "print(lin_regr.coef_)\n",
    "print(rr.coef_)"
   ]
  },
  {
   "cell_type": "markdown",
   "metadata": {},
   "source": [
    "All the weights are now of the same order of magnitude!\n",
    "We can see this even better by plotting them. The huge original weights have been supressed."
   ]
  },
  {
   "cell_type": "code",
   "execution_count": 39,
   "metadata": {},
   "outputs": [
    {
     "data": {
      "image/png": "[encoded data removed]",
      "text/plain": [
       "<Figure size 432x288 with 1 Axes>"
      ]
     },
     "metadata": {
      "needs_background": "light"
     },
     "output_type": "display_data"
    }
   ],
   "source": [
    "plt.scatter (np.arange(len(lin_regr.coef_[0])),lin_regr.coef_[0],\n",
    "             alpha=0.4,marker='o', s=250, color='green', label='Linear Regression')\n",
    "plt.scatter(np.arange(len(rr.coef_[0])),rr.coef_[0],\n",
    "             marker='*', s=40, color='red',label='Ridge',zorder=7) \n",
    "plt.xlabel('Weight Index',fontsize=16)\n",
    "plt.ylabel('Weight Magnitude',fontsize=16)\n",
    "plt.legend(loc='upper right')\n",
    "plt.show()"
   ]
  },
  {
   "cell_type": "markdown",
   "metadata": {},
   "source": [
    "This does not mean of course that the weights learned by Ridge are close to zero. We can zoom in and plot them separately to see that this is not the case."
   ]
  },
  {
   "cell_type": "code",
   "execution_count": 40,
   "metadata": {},
   "outputs": [
    {
     "data": {
      "image/png": "[encoded data removed]",
      "text/plain": [
       "<Figure size 432x288 with 1 Axes>"
      ]
     },
     "metadata": {
      "needs_background": "light"
     },
     "output_type": "display_data"
    }
   ],
   "source": [
    "plt.scatter(np.arange(len(rr.coef_[0])),rr.coef_[0],\n",
    "             marker='d', s=40, color='red',label='Ridge',zorder=7) \n",
    "plt.xlabel('Weight Index',fontsize=16)\n",
    "plt.ylabel('Weight Magnitude',fontsize=16)\n",
    "plt.legend(loc='lower right')\n",
    "plt.show()"
   ]
  },
  {
   "cell_type": "markdown",
   "metadata": {},
   "source": [
    "### 1.3. Lasso regularization\n",
    "\n",
    "With Lasso we try to minimize the following objective function:\n",
    "\n",
    "$$Lasso = SSR + \\alpha(\\Sigma_{i=1}^{n}{|w_i|})$$\n",
    "\n",
    "Lasso regularization also tries to penalize high weights, but the penalty is lower: the sum of weights is minimized instead of sum of squared weights. Lasso has one very desirable property: due to linearity of the seond term, some of the weights will become 0, becasue the intersection of the best contour from gradient descent and the diamond of Lasso constraint tend to happen close to the axes (See Figure 1 Left for an example). Thus Lasso can also be used for feature selection.\n",
    "\n",
    "For a not-so-clear reason Lasso regularization takes a significant amount of time. I tried a smaller number of iterations, but in this case the objective function does not reach the desired minimum."
   ]
  },
  {
   "cell_type": "code",
   "execution_count": 12,
   "metadata": {},
   "outputs": [
    {
     "data": {
      "text/plain": [
       "Lasso(alpha=1, max_iter=1000000.0)"
      ]
     },
     "execution_count": 12,
     "metadata": {},
     "output_type": "execute_result"
    }
   ],
   "source": [
    "lasso = linear_model.Lasso(alpha=1, max_iter=10e5) # takes about 4 min\n",
    "lasso.fit(X_train,Y_train)"
   ]
  },
  {
   "cell_type": "code",
   "execution_count": 13,
   "metadata": {},
   "outputs": [
    {
     "name": "stdout",
     "output_type": "stream",
     "text": [
      "Lasso scores train 0.5939303823029551 test 0.5647254193490225 difference: 0.0292049629539326\n",
      "number of features used:  9\n"
     ]
    }
   ],
   "source": [
    "lasso_train_score=lasso.score(X_train,Y_train)\n",
    "lasso_test_score=lasso.score(X_test,Y_test)\n",
    "lasso_coeff_used = np.sum(lasso.coef_!=0)\n",
    "print (\"Lasso scores\", \"train\", lasso_train_score, \"test\", lasso_test_score, \n",
    "       \"difference:\", lasso_train_score - lasso_test_score)\n",
    "print (\"number of features used: \", lasso_coeff_used)"
   ]
  },
  {
   "cell_type": "markdown",
   "metadata": {},
   "source": [
    "Note that the number of features dropped from 10 to 9, because one of the features was assigned weight 0. Though the overall quality of the model is reduced, the difference between the train and test scores became smaller."
   ]
  },
  {
   "cell_type": "code",
   "execution_count": 14,
   "metadata": {},
   "outputs": [
    {
     "name": "stdout",
     "output_type": "stream",
     "text": [
      "ridge weights: [[-57923.16795046  49652.18617459 142443.99479043 -11765.64475946\n",
      "   12571.94792913  67877.36967325  10708.89984447 131769.45784849\n",
      "   49052.22640247  99562.06874908]]\n",
      "lasso weights: [-57935.66542629  49651.93958247 244250.87009185 -11768.18983147\n",
      "  12567.34346738  67878.85208817  10706.54372976  40000.16771053\n",
      "      0.          99574.00486953]\n"
     ]
    }
   ],
   "source": [
    "print(\"ridge weights:\", rr.coef_)\n",
    "print(\"lasso weights:\", lasso.coef_)"
   ]
  },
  {
   "cell_type": "markdown",
   "metadata": {},
   "source": [
    "Feature number 8 (sqtfoot_basement) was dropped.\n",
    "\n",
    "Let's visualize weights of Ridge and Lasso on the same plot."
   ]
  },
  {
   "cell_type": "code",
   "execution_count": 18,
   "metadata": {},
   "outputs": [
    {
     "data": {
      "image/png": "[encoded data removed]",
      "text/plain": [
       "<Figure size 432x288 with 1 Axes>"
      ]
     },
     "metadata": {
      "needs_background": "light"
     },
     "output_type": "display_data"
    }
   ],
   "source": [
    "plt.scatter(np.arange(len(lasso.coef_)),lasso.coef_,\n",
    "            alpha=0.4, marker='o', s=150, color='blue',label='Lasso') \n",
    "plt.scatter(np.arange(len(rr.coef_[0])),rr.coef_[0],\n",
    "             marker='*', s=50, color='red',label='Ridge',zorder=7) \n",
    "plt.xlabel('Weight Index',fontsize=16)\n",
    "plt.ylabel('Weight Magnitude',fontsize=16)\n",
    "plt.legend(loc='upper right')\n",
    "plt.show()"
   ]
  },
  {
   "cell_type": "markdown",
   "metadata": {},
   "source": [
    "It does seem that Lasso is much less efficient in keeping the weight under control."
   ]
  },
  {
   "cell_type": "markdown",
   "metadata": {},
   "source": [
    "### 1.4. Elastic Net\n",
    "\n",
    "Elastic net is a combination of Ridge and Lasso constraints. It tries to minimize the following objective function:\n",
    "\n",
    "$$ElasticNet = SSR + \\alpha(\\Sigma_{i=1}^{n}{|w_i|^2}) + \\beta(\\Sigma_{i=1}^{n}{|w_i|})$$\n",
    "\n",
    "We can specify how much of each regularization to apply by changing the ratio between $\\alpha$ and $\\beta$, specifying the proportion of L1 regularization with $l1_ratio$. L1 norm refers to Lasso regularization (the degree of weights is 1), while L2 norm refers to Ridge (the degree of weights is 2)."
   ]
  },
  {
   "cell_type": "code",
   "execution_count": 19,
   "metadata": {},
   "outputs": [
    {
     "name": "stdout",
     "output_type": "stream",
     "text": [
      "Elastic net scores train 0.5472391683050393 test 0.5452813990168041 difference: 0.0019577692882352116\n",
      "number of features used:  10\n"
     ]
    }
   ],
   "source": [
    "enet = linear_model.ElasticNet(l1_ratio=0.5, alpha=1, max_iter=10e5)\n",
    "enet.fit(X_train,Y_train)\n",
    "\n",
    "enet_train_score=enet.score(X_train,Y_train)\n",
    "enet_test_score=enet.score(X_test,Y_test)\n",
    "enet_coeff_used = np.sum(enet.coef_!=0)\n",
    "print (\"Elastic net scores\", \"train\", enet_train_score, \"test\", enet_test_score, \n",
    "       \"difference:\", enet_train_score - enet_test_score)\n",
    "print (\"number of features used: \", enet_coeff_used)"
   ]
  },
  {
   "cell_type": "markdown",
   "metadata": {},
   "source": [
    "Note that this model (though too simple still) achieves a perfect degree of generalization: the difference between the train and test scores is very low. "
   ]
  },
  {
   "cell_type": "markdown",
   "metadata": {},
   "source": [
    "Let's plot the weights for all three regularizations."
   ]
  },
  {
   "cell_type": "code",
   "execution_count": 20,
   "metadata": {},
   "outputs": [
    {
     "data": {
      "image/png": "[encoded data removed]",
      "text/plain": [
       "<Figure size 432x288 with 1 Axes>"
      ]
     },
     "metadata": {
      "needs_background": "light"
     },
     "output_type": "display_data"
    }
   ],
   "source": [
    "plt.scatter(np.arange(len(lasso.coef_)),lasso.coef_,\n",
    "             alpha=0.4, marker='o', s=300, color='blue',label='Lasso alpha 10') \n",
    "plt.scatter(np.arange(len(rr.coef_[0])),rr.coef_[0],\n",
    "             marker='*', s=50, color='red',label='Ridge alpha 10',zorder=7) \n",
    "plt.scatter(np.arange(len(enet.coef_)),enet.coef_,\n",
    "            alpha=0.6, marker='h', s=160, color='green',label='E-net',zorder=5) \n",
    "plt.xlabel('Weight Index',fontsize=16)\n",
    "plt.ylabel('Weight Magnitude',fontsize=16)\n",
    "plt.legend(loc='upper right')\n",
    "plt.show()"
   ]
  },
  {
   "cell_type": "markdown",
   "metadata": {},
   "source": [
    "Here we see that with Elastic Net all the weights are kept low, and many of them are close to zero.\n",
    "\n",
    "Here is the list of all the features for your reference.\n",
    "<ul>  \n",
    "    <li>[0] bedrooms - no. of bedrooms, numeric.</li>\n",
    "    <li>[1] bathrooms - no. of bathrooms, numeric.</li>\n",
    "    <li>[2] sqft_living - square footage of the home, numeric.</li>\n",
    "    <li>[3] sqft_lot - square footage of the lot, numeric.</li>\n",
    "    <li>[4] floors - no.of floors, numeric.</li>\n",
    "    <li>[5] waterfront - has a view to a waterfront, numeric (0 or 1).</li>\n",
    "    <li>[6] condition - the amount of wear-and-tear, numeric (from 0 to 5).</li>\n",
    "    <li>[7] sqft_above - square footage of house apart from basement, numeric.</li>\n",
    "    <li>[8] sqft_basement - square footage of the basement, numeric.</li>\n",
    "    <li>[9] age - number of years since year built to year sold, numeric.</li>\n",
    "</ul>"
   ]
  },
  {
   "cell_type": "markdown",
   "metadata": {},
   "source": [
    "## 2. Polynomial regression with regularization\n",
    "\n",
    "From all the experiments above we realize that the Linear regression is probably too simple to model relationships between the features and the target variable in this dataset. We know this because we never achieved a good training score.\n",
    "\n",
    "We will now try to apply the regularizations to the dataset with added polynomial features. The degree of polynomial is 2."
   ]
  },
  {
   "cell_type": "markdown",
   "metadata": {},
   "source": [
    "### 2.1. Pure Polynomial Regression"
   ]
  },
  {
   "cell_type": "markdown",
   "metadata": {},
   "source": [
    "We repeat the data preprocessing and feature scaling."
   ]
  },
  {
   "cell_type": "code",
   "execution_count": 41,
   "metadata": {},
   "outputs": [],
   "source": [
    "data = pd.read_csv(file_name, index_col='id')\n",
    "\n",
    "Y = data['price'] \n",
    "X = data['sqft_living'] \n",
    "\n",
    "# convert to numpy vectors (1D vectors in this case)\n",
    "X=X.values.reshape(-1,1) \n",
    "Y=Y.values.reshape(-1,1) "
   ]
  },
  {
   "cell_type": "code",
   "execution_count": 42,
   "metadata": {},
   "outputs": [],
   "source": [
    "data = pd.read_csv(file_name, index_col='id')\n",
    "\n",
    "Y = data['price'] \n",
    "X = data[['bedrooms','bathrooms', 'sqft_living','sqft_lot',\n",
    "          'floors', 'waterfront', 'condition', 'sqft_above', \n",
    "          'sqft_basement', 'age']] \n",
    "\n",
    "# convert to numpy vectors \n",
    "X=X.values.reshape(len(X),len(X.columns)) \n",
    "Y=Y.values.reshape(len(Y),1) \n",
    "\n",
    "# normalize X\n",
    "scaler = StandardScaler()\n",
    "scaler.fit(X)\n",
    "\n",
    "X = scaler.transform(X)"
   ]
  },
  {
   "cell_type": "markdown",
   "metadata": {},
   "source": [
    "We add polynomial features and split the data into training and test set."
   ]
  },
  {
   "cell_type": "code",
   "execution_count": 43,
   "metadata": {},
   "outputs": [],
   "source": [
    "# Add polynomial features\n",
    "transformer = PolynomialFeatures(degree=2, include_bias=False)\n",
    "transformer.fit(X)\n",
    "X = transformer.transform(X)\n",
    "\n",
    "# Split the data into training/testing sets \n",
    "split_n = len(X)//3 \n",
    "X_train = X[:-split_n] \n",
    "X_test = X[-split_n:] \n",
    "   \n",
    "# Split the targets into training/testing sets \n",
    "Y_train = Y[:-split_n] \n",
    "Y_test = Y[-split_n:] "
   ]
  },
  {
   "cell_type": "markdown",
   "metadata": {},
   "source": [
    "The modified input array contains additional columns: one with the original feature, the other with its square plus the products by all the features in other columns.\n",
    "\n",
    "The model learning algorithm does not change:"
   ]
  },
  {
   "cell_type": "code",
   "execution_count": 44,
   "metadata": {},
   "outputs": [
    {
     "name": "stdout",
     "output_type": "stream",
     "text": [
      "Polynomial Regression - score train: 0.6640072157038772 test: 0.5977472106941717 difference: 0.06626000500970552\n"
     ]
    }
   ],
   "source": [
    "regr = linear_model.LinearRegression()\n",
    "regr.fit(X_train, Y_train)\n",
    "\n",
    "r_sq_test = regr.score(X_test,Y_test)\n",
    "r_sq_train = regr.score(X_train,Y_train)\n",
    "print(\"Polynomial Regression - score\", \"train:\", r_sq_train, \"test:\", r_sq_test, \n",
    "      \"difference:\", r_sq_train - r_sq_test)"
   ]
  },
  {
   "cell_type": "markdown",
   "metadata": {},
   "source": [
    "### 2.2. Polynomial Regression with Ridge"
   ]
  },
  {
   "cell_type": "code",
   "execution_count": 45,
   "metadata": {},
   "outputs": [
    {
     "name": "stdout",
     "output_type": "stream",
     "text": [
      "Ridge coefficient of determination train: 0.665606836043564 test: 0.6011453523905405 difference: 0.06446148365302351\n"
     ]
    }
   ],
   "source": [
    "# the higher the alpha value, the more restrictions on the coefficients\n",
    "rr = linear_model.Ridge(alpha=1) \n",
    "rr.fit(X_train, Y_train)\n",
    "\n",
    "ridge_train_score = rr.score(X_train,Y_train)\n",
    "ridge_test_score = rr.score(X_test, Y_test)\n",
    "\n",
    "print(\"Ridge coefficient of determination\", \"train:\", ridge_train_score, \"test:\", ridge_test_score, \n",
    "      \"difference:\", ridge_train_score - ridge_test_score)"
   ]
  },
  {
   "cell_type": "markdown",
   "metadata": {},
   "source": [
    "### 3.2. Lasso regularization\n",
    "\n",
    "With all 65 features this takes about 5 hours. Do not re-run it."
   ]
  },
  {
   "cell_type": "code",
   "execution_count": 28,
   "metadata": {},
   "outputs": [
    {
     "data": {
      "text/plain": [
       "Lasso(alpha=2, max_iter=1000000.0)"
      ]
     },
     "execution_count": 28,
     "metadata": {},
     "output_type": "execute_result"
    }
   ],
   "source": [
    "lasso = linear_model.Lasso(alpha=2, max_iter=10e5) # takes about 5 hours\n",
    "lasso.fit(X_train,Y_train)"
   ]
  },
  {
   "cell_type": "code",
   "execution_count": 29,
   "metadata": {},
   "outputs": [
    {
     "name": "stdout",
     "output_type": "stream",
     "text": [
      "Lasso scores train: 0.6656068376673235 test: 0.6011372343791805 difference: 0.064469603288143\n",
      "number of features used:  53\n"
     ]
    }
   ],
   "source": [
    "lasso_train_score=lasso.score(X_train,Y_train)\n",
    "lasso_test_score=lasso.score(X_test,Y_test)\n",
    "lasso_coeff_used = np.sum(lasso.coef_!=0)\n",
    "print (\"Lasso scores\", \"train:\", lasso_train_score, \"test:\", lasso_test_score, \n",
    "       \"difference:\", lasso_train_score - lasso_test_score )\n",
    "print (\"number of features used: \", lasso_coeff_used)"
   ]
  },
  {
   "cell_type": "markdown",
   "metadata": {},
   "source": [
    "Note that 8 features were now dropped - their weights are zero."
   ]
  },
  {
   "cell_type": "markdown",
   "metadata": {},
   "source": [
    "### 3.3. Elastic Net"
   ]
  },
  {
   "cell_type": "code",
   "execution_count": 30,
   "metadata": {},
   "outputs": [
    {
     "name": "stdout",
     "output_type": "stream",
     "text": [
      "Elastic net scores train: 0.6027831862943643 test: 0.5415219362993731 difference: 0.061261249994991274\n",
      "number of features used:  65\n"
     ]
    }
   ],
   "source": [
    "enet = linear_model.ElasticNet(l1_ratio=0.5, alpha=2, max_iter=10e5)\n",
    "enet.fit(X_train,Y_train)\n",
    "\n",
    "enet_train_score=enet.score(X_train,Y_train)\n",
    "enet_test_score=enet.score(X_test,Y_test)\n",
    "enet_coeff_used = np.sum(enet.coef_!=0)\n",
    "print (\"Elastic net scores\", \"train:\", enet_train_score, \"test:\", enet_test_score, \n",
    "       \"difference:\", enet_train_score - enet_test_score )\n",
    "print (\"number of features used: \", enet_coeff_used)"
   ]
  },
  {
   "cell_type": "markdown",
   "metadata": {},
   "source": [
    "#### Conclusion\n",
    "\n",
    "We obtained the best results using Polynomial Regression with Ridge regularization. \n",
    "\n",
    "Now let's try to classify our two houses."
   ]
  },
  {
   "cell_type": "code",
   "execution_count": 31,
   "metadata": {},
   "outputs": [],
   "source": [
    "x = [[2,1,830,9000,1,0,3,830,0,75], [6,6,7390,24829,2,1,4,5000,2390,24]]\n",
    "y = [85000, 5300000]\n",
    "\n",
    "x, y = np.array(x), np.array(y)\n",
    "\n",
    "# normalizing - to be consistent with the model\n",
    "# scaler remembers all necessary statistics \n",
    "x = scaler.transform(x)"
   ]
  },
  {
   "cell_type": "code",
   "execution_count": 32,
   "metadata": {},
   "outputs": [
    {
     "name": "stdout",
     "output_type": "stream",
     "text": [
      "predicted price: [[ 283926.03235311]\n",
      " [4731132.72794121]]\n",
      "actual price [  85000 5300000]\n"
     ]
    }
   ],
   "source": [
    "# adding poly features\n",
    "transformer.fit(x)\n",
    "x_ = transformer.transform(x)\n",
    "\n",
    "y_pred = rr.predict(x_)\n",
    "print('predicted price:', y_pred)\n",
    "print('actual price', y)"
   ]
  },
  {
   "cell_type": "markdown",
   "metadata": {},
   "source": [
    "This is the best we can do at this point."
   ]
  },
  {
   "cell_type": "markdown",
   "metadata": {},
   "source": [
    "Copyright &copy; 2022 Marina Barsky. All rights reserved."
   ]
  }
 ],
 "metadata": {
  "kernelspec": {
   "display_name": "Python 3",
   "language": "python",
   "name": "python3"
  },
  "language_info": {
   "codemirror_mode": {
    "name": "ipython",
    "version": 3
   },
   "file_extension": ".py",
   "mimetype": "text/x-python",
   "name": "python",
   "nbconvert_exporter": "python",
   "pygments_lexer": "ipython3",
   "version": "3.8.3"
  }
 },
 "nbformat": 4,
 "nbformat_minor": 4
}
